{
  "nbformat": 4,
  "nbformat_minor": 0,
  "metadata": {
    "colab": {
      "name": "aula1_maratona.ipynb",
      "provenance": [],
      "collapsed_sections": [],
      "include_colab_link": true
    },
    "kernelspec": {
      "name": "python3",
      "display_name": "Python 3"
    }
  },
  "cells": [
    {
      "cell_type": "markdown",
      "metadata": {
        "id": "view-in-github",
        "colab_type": "text"
      },
      "source": [
        "<a href=\"https://colab.research.google.com/github/henriquecelestino/PowerBI/blob/master/aula1_maratona.ipynb\" target=\"_parent\"><img src=\"https://colab.research.google.com/assets/colab-badge.svg\" alt=\"Open In Colab\"/></a>"
      ]
    },
    {
      "cell_type": "markdown",
      "metadata": {
        "id": "WHSU8NShZedN"
      },
      "source": [
        "![alt text](https://encrypted-tbn0.gstatic.com/images?q=tbn%3AANd9GcTK4gQ9nhwHHaSXMHpeggWg7twwMCgb877smkRmtkmDeDoGF9Z6&usqp=CAU)"
      ]
    },
    {
      "cell_type": "markdown",
      "metadata": {
        "id": "7oiQVQi0AJ6D"
      },
      "source": [
        "# <font color='Blue'>Maratona Cientista de Dados na Prática</font>\n",
        "\n",
        "### <font color='GREY'> SAE - Sistema de Aprovação de Empréstimos </font>  \n",
        "\n",
        "![](https://i.gifer.com/MKsN.gif)\n",
        "\n",
        "\n"
      ]
    },
    {
      "cell_type": "markdown",
      "metadata": {
        "id": "28A1XXO92Lo2"
      },
      "source": [
        "# <font color='Black'> **Aula 1 - Extraindo Insights com Ciência de Dados** </font>\n",
        "![](https://cbswire.dk/wp-content/uploads/2020/08/computer-bits.gif)"
      ]
    },
    {
      "cell_type": "markdown",
      "metadata": {
        "id": "Eny3aIZaku8i"
      },
      "source": [
        "#1° Problema de Negócio \n",
        "![](https://s3-us-west-2.amazonaws.com/medici-prod/root/Medici/public/uploads/custom1_fintech-a-new-frontier-for-smartphone-manufacturers.gif?1607010785)"
      ]
    },
    {
      "cell_type": "markdown",
      "metadata": {
        "id": "Wa2VU8HfSGAL"
      },
      "source": [
        "###Um grande conglomerado financeiro internacional está percebendo o potencial ainda inexplorado do mercado de crédito Brasileiro e, aproveitando a era do \"**Open Banking**\", está aterrizando em solo Brasileiro fundando a \n",
        "\n",
        "## **FINTECH \"Crédito Fácil\"**\n",
        "![](https://www.boldbusiness.com/wp-content/uploads/2018/10/Why-Atlanta-Is-Becoming-a-Hot-Bed-for-FinTech-Feature-Image.gif)"
      ]
    },
    {
      "cell_type": "markdown",
      "metadata": {
        "id": "qQ4-8gXATj8z"
      },
      "source": [
        "### Percebendo o potencial dessa Fintech e, dado que o mercado Brasileiro de Crédito é bem Maduro e com índices de inadimplência bem controlado, vários investidores foram atraídos e fizeram aportes de capital, transformando a fintech numa das empresas consideradas **UNICÓRNIO**, que são aquelas com **valor de mercado na casa de Bilhões** de Reais.\n",
        "\n",
        "![](https://miro.medium.com/max/2134/1*e7kEYciuIHfoVu-1vWx0dA.gif)"
      ]
    },
    {
      "cell_type": "markdown",
      "metadata": {
        "id": "y-jSn-ZDUzIj"
      },
      "source": [
        "### Como toda empresa orientada a Dados (*Datadriven*), o RH da empresa está selecionando Cientistas de Dados na Prática, para que eles possam desenvolver um SISTEMA DE APROVAÇÃO DE EMPRÉSTIMO - online - com uma solução de Ciência de Dados.\n",
        "\n",
        "### **Seu objetivo é exatamente esse:** \n",
        "\n",
        "Construir um Sistema de Aprovação de Empréstimos com **Machine Learning e Programação Python**, detalhando cada etapa do processo de construção da sua Máquina Preditiva.\n",
        "![](https://miro.medium.com/max/2600/1*hlaNkSNjNWBDQPzIkwh82w.gif)"
      ]
    },
    {
      "cell_type": "markdown",
      "metadata": {
        "id": "dP0BCfawWV4x"
      },
      "source": [
        "####**Fonte de Dados**: Para desenvolver a Máquina Preditiva com Machine Learning, foram fornecidos dados históricos de crédito dos clientes, que estão no arquivo **\"clientes.csv\"**."
      ]
    },
    {
      "cell_type": "markdown",
      "metadata": {
        "id": "uTF2u0uHbce4"
      },
      "source": [
        "### **Arquitetura dos Dados**\n",
        "\n",
        "![](https://cienciadosdados.com/images/2021/maratona/ad.png)"
      ]
    },
    {
      "cell_type": "markdown",
      "metadata": {
        "id": "-O1cmFgSku8j"
      },
      "source": [
        "# 2° Análise Exploratória dos Dados\n",
        "![](https://cdn.dribbble.com/users/132194/screenshots/2923109/bbt-mdl-dribbble.gif)"
      ]
    },
    {
      "cell_type": "markdown",
      "metadata": {
        "id": "HQmS-HUQR-pJ"
      },
      "source": [
        "#Importando Pacotes"
      ]
    },
    {
      "cell_type": "code",
      "metadata": {
        "id": "c6kMyerHB4tv"
      },
      "source": [
        "## Pacotes\n",
        "import pandas as pd     #Biblioteca de Funções de Manipulação de Dados\n",
        "import seaborn as sns   #Biblioteca de Funções de Visualização Gráfica\n",
        "import warnings\n",
        "warnings.filterwarnings(\"ignore\")"
      ],
      "execution_count": 1,
      "outputs": []
    },
    {
      "cell_type": "code",
      "metadata": {
        "id": "wq0FbuZ9XOCd"
      },
      "source": [
        "#Importação dos Dados\n",
        "clientes = pd.read_csv('clientes.csv')"
      ],
      "execution_count": 3,
      "outputs": []
    },
    {
      "cell_type": "code",
      "metadata": {
        "colab": {
          "base_uri": "https://localhost:8080/"
        },
        "id": "v02mC8TKdYOR",
        "outputId": "a07f83d9-8af1-45ee-bb12-22d82fcf9f87"
      },
      "source": [
        "#Verifica as Dimensões do Arquivo\n",
        "clientes.shape"
      ],
      "execution_count": 4,
      "outputs": [
        {
          "output_type": "execute_result",
          "data": {
            "text/plain": [
              "(614, 13)"
            ]
          },
          "metadata": {
            "tags": []
          },
          "execution_count": 4
        }
      ]
    },
    {
      "cell_type": "code",
      "metadata": {
        "id": "ZPdaos9JZIpK",
        "colab": {
          "base_uri": "https://localhost:8080/",
          "height": 241
        },
        "outputId": "27ece209-cdad-4710-b187-fdf598726ea6"
      },
      "source": [
        "#Verificando os primeiros registros\n",
        "clientes.head()"
      ],
      "execution_count": 5,
      "outputs": [
        {
          "output_type": "execute_result",
          "data": {
            "text/html": [
              "<div>\n",
              "<style scoped>\n",
              "    .dataframe tbody tr th:only-of-type {\n",
              "        vertical-align: middle;\n",
              "    }\n",
              "\n",
              "    .dataframe tbody tr th {\n",
              "        vertical-align: top;\n",
              "    }\n",
              "\n",
              "    .dataframe thead th {\n",
              "        text-align: right;\n",
              "    }\n",
              "</style>\n",
              "<table border=\"1\" class=\"dataframe\">\n",
              "  <thead>\n",
              "    <tr style=\"text-align: right;\">\n",
              "      <th></th>\n",
              "      <th>cod_cliente</th>\n",
              "      <th>sexo</th>\n",
              "      <th>estado_civil</th>\n",
              "      <th>dependentes</th>\n",
              "      <th>educacao</th>\n",
              "      <th>empregado</th>\n",
              "      <th>renda</th>\n",
              "      <th>renda_conjuge</th>\n",
              "      <th>emprestimo</th>\n",
              "      <th>prestacao_mensal</th>\n",
              "      <th>historico_credito</th>\n",
              "      <th>imovel</th>\n",
              "      <th>aprovacao_emprestimo</th>\n",
              "    </tr>\n",
              "  </thead>\n",
              "  <tbody>\n",
              "    <tr>\n",
              "      <th>0</th>\n",
              "      <td>LP001002</td>\n",
              "      <td>Male</td>\n",
              "      <td>No</td>\n",
              "      <td>0</td>\n",
              "      <td>Graduate</td>\n",
              "      <td>No</td>\n",
              "      <td>5849</td>\n",
              "      <td>0</td>\n",
              "      <td>NaN</td>\n",
              "      <td>360.0</td>\n",
              "      <td>1.0</td>\n",
              "      <td>Urban</td>\n",
              "      <td>Y</td>\n",
              "    </tr>\n",
              "    <tr>\n",
              "      <th>1</th>\n",
              "      <td>LP001003</td>\n",
              "      <td>Male</td>\n",
              "      <td>Yes</td>\n",
              "      <td>1</td>\n",
              "      <td>Graduate</td>\n",
              "      <td>No</td>\n",
              "      <td>4583</td>\n",
              "      <td>1508</td>\n",
              "      <td>128.0</td>\n",
              "      <td>360.0</td>\n",
              "      <td>1.0</td>\n",
              "      <td>Rural</td>\n",
              "      <td>N</td>\n",
              "    </tr>\n",
              "    <tr>\n",
              "      <th>2</th>\n",
              "      <td>LP001005</td>\n",
              "      <td>Male</td>\n",
              "      <td>Yes</td>\n",
              "      <td>0</td>\n",
              "      <td>Graduate</td>\n",
              "      <td>Yes</td>\n",
              "      <td>3000</td>\n",
              "      <td>0</td>\n",
              "      <td>66.0</td>\n",
              "      <td>360.0</td>\n",
              "      <td>1.0</td>\n",
              "      <td>Urban</td>\n",
              "      <td>Y</td>\n",
              "    </tr>\n",
              "    <tr>\n",
              "      <th>3</th>\n",
              "      <td>LP001006</td>\n",
              "      <td>Male</td>\n",
              "      <td>Yes</td>\n",
              "      <td>0</td>\n",
              "      <td>Not Graduate</td>\n",
              "      <td>No</td>\n",
              "      <td>2583</td>\n",
              "      <td>2358</td>\n",
              "      <td>120.0</td>\n",
              "      <td>360.0</td>\n",
              "      <td>1.0</td>\n",
              "      <td>Urban</td>\n",
              "      <td>Y</td>\n",
              "    </tr>\n",
              "    <tr>\n",
              "      <th>4</th>\n",
              "      <td>LP001008</td>\n",
              "      <td>Male</td>\n",
              "      <td>No</td>\n",
              "      <td>0</td>\n",
              "      <td>Graduate</td>\n",
              "      <td>No</td>\n",
              "      <td>6000</td>\n",
              "      <td>0</td>\n",
              "      <td>141.0</td>\n",
              "      <td>360.0</td>\n",
              "      <td>1.0</td>\n",
              "      <td>Urban</td>\n",
              "      <td>Y</td>\n",
              "    </tr>\n",
              "  </tbody>\n",
              "</table>\n",
              "</div>"
            ],
            "text/plain": [
              "  cod_cliente  sexo estado_civil  ... historico_credito imovel aprovacao_emprestimo\n",
              "0    LP001002  Male           No  ...               1.0  Urban                    Y\n",
              "1    LP001003  Male          Yes  ...               1.0  Rural                    N\n",
              "2    LP001005  Male          Yes  ...               1.0  Urban                    Y\n",
              "3    LP001006  Male          Yes  ...               1.0  Urban                    Y\n",
              "4    LP001008  Male           No  ...               1.0  Urban                    Y\n",
              "\n",
              "[5 rows x 13 columns]"
            ]
          },
          "metadata": {
            "tags": []
          },
          "execution_count": 5
        }
      ]
    },
    {
      "cell_type": "code",
      "metadata": {
        "id": "WQ2ooZI_cDxO",
        "colab": {
          "base_uri": "https://localhost:8080/"
        },
        "outputId": "87199190-07f0-48e5-d90b-30753eabd25b"
      },
      "source": [
        "#Verificando as informações dos campos da tabela de dados\n",
        "clientes.info()"
      ],
      "execution_count": 6,
      "outputs": [
        {
          "output_type": "stream",
          "text": [
            "<class 'pandas.core.frame.DataFrame'>\n",
            "RangeIndex: 614 entries, 0 to 613\n",
            "Data columns (total 13 columns):\n",
            " #   Column                Non-Null Count  Dtype  \n",
            "---  ------                --------------  -----  \n",
            " 0   cod_cliente           614 non-null    object \n",
            " 1   sexo                  601 non-null    object \n",
            " 2   estado_civil          611 non-null    object \n",
            " 3   dependentes           599 non-null    object \n",
            " 4   educacao              614 non-null    object \n",
            " 5   empregado             582 non-null    object \n",
            " 6   renda                 614 non-null    int64  \n",
            " 7   renda_conjuge         614 non-null    object \n",
            " 8   emprestimo            592 non-null    float64\n",
            " 9   prestacao_mensal      600 non-null    float64\n",
            " 10  historico_credito     564 non-null    float64\n",
            " 11  imovel                614 non-null    object \n",
            " 12  aprovacao_emprestimo  614 non-null    object \n",
            "dtypes: float64(3), int64(1), object(9)\n",
            "memory usage: 62.5+ KB\n"
          ],
          "name": "stdout"
        }
      ]
    },
    {
      "cell_type": "code",
      "metadata": {
        "id": "Gs83IiUGDQ5H",
        "colab": {
          "base_uri": "https://localhost:8080/"
        },
        "outputId": "1ff5f247-52e0-4b73-cb5a-8e7905d6b8c5"
      },
      "source": [
        "#Verifica se há valores Nulos/ausentes\n",
        "clientes.isnull().sum()"
      ],
      "execution_count": 7,
      "outputs": [
        {
          "output_type": "execute_result",
          "data": {
            "text/plain": [
              "cod_cliente              0\n",
              "sexo                    13\n",
              "estado_civil             3\n",
              "dependentes             15\n",
              "educacao                 0\n",
              "empregado               32\n",
              "renda                    0\n",
              "renda_conjuge            0\n",
              "emprestimo              22\n",
              "prestacao_mensal        14\n",
              "historico_credito       50\n",
              "imovel                   0\n",
              "aprovacao_emprestimo     0\n",
              "dtype: int64"
            ]
          },
          "metadata": {
            "tags": []
          },
          "execution_count": 7
        }
      ]
    },
    {
      "cell_type": "code",
      "metadata": {
        "colab": {
          "base_uri": "https://localhost:8080/"
        },
        "id": "Co1-ZV9Dc0fD",
        "outputId": "bb3132c0-cfb3-4c8b-d720-189de4f13abd"
      },
      "source": [
        "#verifica se há valores duplicados\n",
        "clientes.duplicated().sum()"
      ],
      "execution_count": 8,
      "outputs": [
        {
          "output_type": "execute_result",
          "data": {
            "text/plain": [
              "0"
            ]
          },
          "metadata": {
            "tags": []
          },
          "execution_count": 8
        }
      ]
    },
    {
      "cell_type": "markdown",
      "metadata": {
        "id": "JY5ovhk8c_Yz"
      },
      "source": [
        "### Conhecendo a Distribuição dos Dados de Cada Variável/Campo"
      ]
    },
    {
      "cell_type": "code",
      "metadata": {
        "colab": {
          "base_uri": "https://localhost:8080/",
          "height": 297
        },
        "id": "n6piBxbid5LU",
        "outputId": "bf9e013d-41ef-4e6a-dadd-dbd8cb7f826d"
      },
      "source": [
        "#Estatísticas descritivas das variáveis numéricas\n",
        "clientes.describe()"
      ],
      "execution_count": 9,
      "outputs": [
        {
          "output_type": "execute_result",
          "data": {
            "text/html": [
              "<div>\n",
              "<style scoped>\n",
              "    .dataframe tbody tr th:only-of-type {\n",
              "        vertical-align: middle;\n",
              "    }\n",
              "\n",
              "    .dataframe tbody tr th {\n",
              "        vertical-align: top;\n",
              "    }\n",
              "\n",
              "    .dataframe thead th {\n",
              "        text-align: right;\n",
              "    }\n",
              "</style>\n",
              "<table border=\"1\" class=\"dataframe\">\n",
              "  <thead>\n",
              "    <tr style=\"text-align: right;\">\n",
              "      <th></th>\n",
              "      <th>renda</th>\n",
              "      <th>emprestimo</th>\n",
              "      <th>prestacao_mensal</th>\n",
              "      <th>historico_credito</th>\n",
              "    </tr>\n",
              "  </thead>\n",
              "  <tbody>\n",
              "    <tr>\n",
              "      <th>count</th>\n",
              "      <td>614.000000</td>\n",
              "      <td>592.000000</td>\n",
              "      <td>600.00000</td>\n",
              "      <td>564.000000</td>\n",
              "    </tr>\n",
              "    <tr>\n",
              "      <th>mean</th>\n",
              "      <td>5403.459283</td>\n",
              "      <td>146.412162</td>\n",
              "      <td>342.00000</td>\n",
              "      <td>0.842199</td>\n",
              "    </tr>\n",
              "    <tr>\n",
              "      <th>std</th>\n",
              "      <td>6109.041673</td>\n",
              "      <td>85.587325</td>\n",
              "      <td>65.12041</td>\n",
              "      <td>0.364878</td>\n",
              "    </tr>\n",
              "    <tr>\n",
              "      <th>min</th>\n",
              "      <td>150.000000</td>\n",
              "      <td>9.000000</td>\n",
              "      <td>12.00000</td>\n",
              "      <td>0.000000</td>\n",
              "    </tr>\n",
              "    <tr>\n",
              "      <th>25%</th>\n",
              "      <td>2877.500000</td>\n",
              "      <td>100.000000</td>\n",
              "      <td>360.00000</td>\n",
              "      <td>1.000000</td>\n",
              "    </tr>\n",
              "    <tr>\n",
              "      <th>50%</th>\n",
              "      <td>3812.500000</td>\n",
              "      <td>128.000000</td>\n",
              "      <td>360.00000</td>\n",
              "      <td>1.000000</td>\n",
              "    </tr>\n",
              "    <tr>\n",
              "      <th>75%</th>\n",
              "      <td>5795.000000</td>\n",
              "      <td>168.000000</td>\n",
              "      <td>360.00000</td>\n",
              "      <td>1.000000</td>\n",
              "    </tr>\n",
              "    <tr>\n",
              "      <th>max</th>\n",
              "      <td>81000.000000</td>\n",
              "      <td>700.000000</td>\n",
              "      <td>480.00000</td>\n",
              "      <td>1.000000</td>\n",
              "    </tr>\n",
              "  </tbody>\n",
              "</table>\n",
              "</div>"
            ],
            "text/plain": [
              "              renda  emprestimo  prestacao_mensal  historico_credito\n",
              "count    614.000000  592.000000         600.00000         564.000000\n",
              "mean    5403.459283  146.412162         342.00000           0.842199\n",
              "std     6109.041673   85.587325          65.12041           0.364878\n",
              "min      150.000000    9.000000          12.00000           0.000000\n",
              "25%     2877.500000  100.000000         360.00000           1.000000\n",
              "50%     3812.500000  128.000000         360.00000           1.000000\n",
              "75%     5795.000000  168.000000         360.00000           1.000000\n",
              "max    81000.000000  700.000000         480.00000           1.000000"
            ]
          },
          "metadata": {
            "tags": []
          },
          "execution_count": 9
        }
      ]
    },
    {
      "cell_type": "code",
      "metadata": {
        "colab": {
          "base_uri": "https://localhost:8080/"
        },
        "id": "mfOh0SJ_eDh1",
        "outputId": "0a56c0d9-268e-4ca5-bb68-63b33173bea2"
      },
      "source": [
        "# Tabela de Frequência da Variável \"aprovacao_emprestimo\" - Nossa Classe ou Label ou Target ou Y ou Variável a ser Predita (o que a gente quer descobrir)\n",
        "clientes.aprovacao_emprestimo.value_counts()"
      ],
      "execution_count": 10,
      "outputs": [
        {
          "output_type": "execute_result",
          "data": {
            "text/plain": [
              "Y    422\n",
              "N    192\n",
              "Name: aprovacao_emprestimo, dtype: int64"
            ]
          },
          "metadata": {
            "tags": []
          },
          "execution_count": 10
        }
      ]
    },
    {
      "cell_type": "code",
      "metadata": {
        "colab": {
          "base_uri": "https://localhost:8080/",
          "height": 297
        },
        "id": "G7GH20Lpc96o",
        "outputId": "8ab5135f-2036-45f8-d091-cb98260cc5cf"
      },
      "source": [
        "#Criando Gráfico de Barras para variáveis Categóricas\n",
        "sns.countplot(clientes['aprovacao_emprestimo'])"
      ],
      "execution_count": null,
      "outputs": [
        {
          "output_type": "execute_result",
          "data": {
            "text/plain": [
              "<matplotlib.axes._subplots.AxesSubplot at 0x7f3a07d41990>"
            ]
          },
          "metadata": {
            "tags": []
          },
          "execution_count": 58
        },
        {
          "output_type": "display_data",
          "data": {
            "image/png": "[encoded data removed]",
            "text/plain": [
              "<Figure size 432x288 with 1 Axes>"
            ]
          },
          "metadata": {
            "tags": [],
            "needs_background": "light"
          }
        }
      ]
    },
    {
      "cell_type": "code",
      "metadata": {
        "colab": {
          "base_uri": "https://localhost:8080/",
          "height": 297
        },
        "id": "NporwRzio9r1",
        "outputId": "a946c6a2-0535-427e-ecd2-977be6b4c810"
      },
      "source": [
        "#Criando Gráfico de Barras para variáveis Categóricas\n",
        "sns.countplot(clientes['historico_credito'])"
      ],
      "execution_count": null,
      "outputs": [
        {
          "output_type": "execute_result",
          "data": {
            "text/plain": [
              "<matplotlib.axes._subplots.AxesSubplot at 0x7f3a07d1a7d0>"
            ]
          },
          "metadata": {
            "tags": []
          },
          "execution_count": 59
        },
        {
          "output_type": "display_data",
          "data": {
            "image/png": "[encoded data removed]",
            "text/plain": [
              "<Figure size 432x288 with 1 Axes>"
            ]
          },
          "metadata": {
            "tags": [],
            "needs_background": "light"
          }
        }
      ]
    },
    {
      "cell_type": "code",
      "metadata": {
        "colab": {
          "base_uri": "https://localhost:8080/",
          "height": 299
        },
        "id": "S9JsWz3jh9X7",
        "outputId": "dc50bb60-7288-4437-eea4-9f94d2f28544"
      },
      "source": [
        "#Criando Gráfico de Barras para variáveis Categóricas\n",
        "sns.countplot(clientes['educacao'])"
      ],
      "execution_count": null,
      "outputs": [
        {
          "output_type": "execute_result",
          "data": {
            "text/plain": [
              "<matplotlib.axes._subplots.AxesSubplot at 0x7f3a07cd3490>"
            ]
          },
          "metadata": {
            "tags": []
          },
          "execution_count": 60
        },
        {
          "output_type": "display_data",
          "data": {
            "image/png": "[encoded data removed]",
            "text/plain": [
              "<Figure size 432x288 with 1 Axes>"
            ]
          },
          "metadata": {
            "tags": [],
            "needs_background": "light"
          }
        }
      ]
    },
    {
      "cell_type": "code",
      "metadata": {
        "colab": {
          "base_uri": "https://localhost:8080/",
          "height": 296
        },
        "id": "OxVpy4cFh7i1",
        "outputId": "213d3f19-3c53-43f5-f157-261529cad3d2"
      },
      "source": [
        "#Criando Gráfico de Barras para variáveis Categóricas\n",
        "sns.countplot(clientes['sexo'])"
      ],
      "execution_count": null,
      "outputs": [
        {
          "output_type": "execute_result",
          "data": {
            "text/plain": [
              "<matplotlib.axes._subplots.AxesSubplot at 0x7f3a07c45e10>"
            ]
          },
          "metadata": {
            "tags": []
          },
          "execution_count": 61
        },
        {
          "output_type": "display_data",
          "data": {
            "image/png": "[encoded data removed]",
            "text/plain": [
              "<Figure size 432x288 with 1 Axes>"
            ]
          },
          "metadata": {
            "tags": [],
            "needs_background": "light"
          }
        }
      ]
    },
    {
      "cell_type": "code",
      "metadata": {
        "colab": {
          "base_uri": "https://localhost:8080/",
          "height": 296
        },
        "id": "YetxZJqaiGu6",
        "outputId": "7ee9862d-466a-447c-8b93-315771e52841"
      },
      "source": [
        "#Criando Gráfico de Barras para variáveis Categóricas\n",
        "sns.countplot(clientes['imovel'])"
      ],
      "execution_count": null,
      "outputs": [
        {
          "output_type": "execute_result",
          "data": {
            "text/plain": [
              "<matplotlib.axes._subplots.AxesSubplot at 0x7f3a07c18150>"
            ]
          },
          "metadata": {
            "tags": []
          },
          "execution_count": 62
        },
        {
          "output_type": "display_data",
          "data": {
            "image/png": "[encoded data removed]",
            "text/plain": [
              "<Figure size 432x288 with 1 Axes>"
            ]
          },
          "metadata": {
            "tags": [],
            "needs_background": "light"
          }
        }
      ]
    },
    {
      "cell_type": "code",
      "metadata": {
        "colab": {
          "base_uri": "https://localhost:8080/",
          "height": 299
        },
        "id": "-5BsW7L-iQfK",
        "outputId": "eab7d59c-ca03-423c-b450-b1fb3a74e06d"
      },
      "source": [
        "#Criando Gráfico de Barras para variáveis Categóricas\n",
        "sns.countplot(clientes['educacao'])"
      ],
      "execution_count": null,
      "outputs": [
        {
          "output_type": "execute_result",
          "data": {
            "text/plain": [
              "<matplotlib.axes._subplots.AxesSubplot at 0x7f3a07bf4750>"
            ]
          },
          "metadata": {
            "tags": []
          },
          "execution_count": 63
        },
        {
          "output_type": "display_data",
          "data": {
            "image/png": "[encoded data removed]",
            "text/plain": [
              "<Figure size 432x288 with 1 Axes>"
            ]
          },
          "metadata": {
            "tags": [],
            "needs_background": "light"
          }
        }
      ]
    },
    {
      "cell_type": "code",
      "metadata": {
        "colab": {
          "base_uri": "https://localhost:8080/",
          "height": 296
        },
        "id": "vlhviU9xiSws",
        "outputId": "8f636ec5-b998-486c-ec79-faff3fcb65d9"
      },
      "source": [
        "#Criando Gráfico de Barras para variáveis Categóricas\n",
        "sns.countplot(clientes['dependentes'])"
      ],
      "execution_count": null,
      "outputs": [
        {
          "output_type": "execute_result",
          "data": {
            "text/plain": [
              "<matplotlib.axes._subplots.AxesSubplot at 0x7f3a07b48ad0>"
            ]
          },
          "metadata": {
            "tags": []
          },
          "execution_count": 64
        },
        {
          "output_type": "display_data",
          "data": {
            "image/png": "[encoded data removed]",
            "text/plain": [
              "<Figure size 432x288 with 1 Axes>"
            ]
          },
          "metadata": {
            "tags": [],
            "needs_background": "light"
          }
        }
      ]
    },
    {
      "cell_type": "code",
      "metadata": {
        "colab": {
          "base_uri": "https://localhost:8080/",
          "height": 297
        },
        "id": "Wj0mepDAiVgO",
        "outputId": "2c27a9cb-2c50-4959-e396-40f0219eef16"
      },
      "source": [
        "#Criando Gráfico de Barras para variáveis Categóricas\n",
        "sns.countplot(clientes['estado_civil'])"
      ],
      "execution_count": null,
      "outputs": [
        {
          "output_type": "execute_result",
          "data": {
            "text/plain": [
              "<matplotlib.axes._subplots.AxesSubplot at 0x7f3a07b17310>"
            ]
          },
          "metadata": {
            "tags": []
          },
          "execution_count": 65
        },
        {
          "output_type": "display_data",
          "data": {
            "image/png": "[encoded data removed]",
            "text/plain": [
              "<Figure size 432x288 with 1 Axes>"
            ]
          },
          "metadata": {
            "tags": [],
            "needs_background": "light"
          }
        }
      ]
    },
    {
      "cell_type": "code",
      "metadata": {
        "colab": {
          "base_uri": "https://localhost:8080/",
          "height": 296
        },
        "id": "KfeIQxisiJYt",
        "outputId": "658d13d5-37ee-4f8a-8d4f-927a3dc854fb"
      },
      "source": [
        "#Criando Gráfico de Barras para variáveis Categóricas\n",
        "sns.countplot(clientes['empregado'])"
      ],
      "execution_count": null,
      "outputs": [
        {
          "output_type": "execute_result",
          "data": {
            "text/plain": [
              "<matplotlib.axes._subplots.AxesSubplot at 0x7f3a07a9a450>"
            ]
          },
          "metadata": {
            "tags": []
          },
          "execution_count": 66
        },
        {
          "output_type": "display_data",
          "data": {
            "image/png": "[encoded data removed]",
            "text/plain": [
              "<Figure size 432x288 with 1 Axes>"
            ]
          },
          "metadata": {
            "tags": [],
            "needs_background": "light"
          }
        }
      ]
    },
    {
      "cell_type": "code",
      "metadata": {
        "colab": {
          "base_uri": "https://localhost:8080/",
          "height": 296
        },
        "id": "01BNXezBfS6A",
        "outputId": "141b49d7-c352-45d1-e844-b8e56248d066"
      },
      "source": [
        "#Criando Gráfico de Distribuição para variáveis contínuas\n",
        "sns.histplot(clientes['renda'], bins=50, kde=True)"
      ],
      "execution_count": null,
      "outputs": [
        {
          "output_type": "execute_result",
          "data": {
            "text/plain": [
              "<matplotlib.axes._subplots.AxesSubplot at 0x7f3a089ceb90>"
            ]
          },
          "metadata": {
            "tags": []
          },
          "execution_count": 51
        },
        {
          "output_type": "display_data",
          "data": {
            "image/png": "[encoded data removed]",
            "text/plain": [
              "<Figure size 432x288 with 1 Axes>"
            ]
          },
          "metadata": {
            "tags": [],
            "needs_background": "light"
          }
        }
      ]
    },
    {
      "cell_type": "code",
      "metadata": {
        "id": "tfVDwCwfiCQE",
        "colab": {
          "base_uri": "https://localhost:8080/",
          "height": 282
        },
        "outputId": "59f7be4e-2fc2-43e2-dea9-4bbdfded9ca1"
      },
      "source": [
        "#Distribuição dos dados BOXPLOT\n",
        "clientes.boxplot(column='emprestimo', vert=False )"
      ],
      "execution_count": 11,
      "outputs": [
        {
          "output_type": "execute_result",
          "data": {
            "text/plain": [
              "<matplotlib.axes._subplots.AxesSubplot at 0x7f6357327990>"
            ]
          },
          "metadata": {
            "tags": []
          },
          "execution_count": 11
        },
        {
          "output_type": "display_data",
          "data": {
            "image/png": "[encoded data removed]",
            "text/plain": [
              "<Figure size 432x288 with 1 Axes>"
            ]
          },
          "metadata": {
            "tags": [],
            "needs_background": "light"
          }
        }
      ]
    },
    {
      "cell_type": "code",
      "metadata": {
        "id": "tQ-1BKOFf0eZ",
        "colab": {
          "base_uri": "https://localhost:8080/",
          "height": 296
        },
        "outputId": "f4e314d5-5fe5-4b3e-c0da-75996b86679b"
      },
      "source": [
        "#Criando Gráfico de Distribuição para variáveis contínuas\n",
        "sns.histplot(clientes['emprestimo'], bins=50, kde=True)"
      ],
      "execution_count": 12,
      "outputs": [
        {
          "output_type": "execute_result",
          "data": {
            "text/plain": [
              "<matplotlib.axes._subplots.AxesSubplot at 0x7f635726fad0>"
            ]
          },
          "metadata": {
            "tags": []
          },
          "execution_count": 12
        },
        {
          "output_type": "display_data",
          "data": {
            "image/png": "[encoded data removed]",
            "text/plain": [
              "<Figure size 432x288 with 1 Axes>"
            ]
          },
          "metadata": {
            "tags": [],
            "needs_background": "light"
          }
        }
      ]
    },
    {
      "cell_type": "code",
      "metadata": {
        "id": "yzwFFi0_gDaE",
        "colab": {
          "base_uri": "https://localhost:8080/",
          "height": 296
        },
        "outputId": "bd4efd60-e9b4-4eb1-b3bd-814cea96026a"
      },
      "source": [
        "# Correlação entre as Variáveis\n",
        "sns.scatterplot(data=clientes, x=\"emprestimo\", y=\"renda\", hue='aprovacao_emprestimo')"
      ],
      "execution_count": 14,
      "outputs": [
        {
          "output_type": "execute_result",
          "data": {
            "text/plain": [
              "<matplotlib.axes._subplots.AxesSubplot at 0x7f63561d7e50>"
            ]
          },
          "metadata": {
            "tags": []
          },
          "execution_count": 14
        },
        {
          "output_type": "display_data",
          "data": {
            "image/png": "[encoded data removed]",
            "text/plain": [
              "<Figure size 432x288 with 1 Axes>"
            ]
          },
          "metadata": {
            "tags": [],
            "needs_background": "light"
          }
        }
      ]
    },
    {
      "cell_type": "code",
      "metadata": {
        "id": "_57pp-3Hc-Nx",
        "colab": {
          "base_uri": "https://localhost:8080/",
          "height": 743
        },
        "outputId": "7dc9cb96-5a91-4383-81eb-0ed5ed08989e"
      },
      "source": [
        "# Criação do Gráfico de dispersão (scatter) conhecido como pairplot\n",
        "sns.pairplot(clientes, hue='aprovacao_emprestimo') # kind=reg é a reta de regressão"
      ],
      "execution_count": 15,
      "outputs": [
        {
          "output_type": "execute_result",
          "data": {
            "text/plain": [
              "<seaborn.axisgrid.PairGrid at 0x7f6356165a50>"
            ]
          },
          "metadata": {
            "tags": []
          },
          "execution_count": 15
        },
        {
          "output_type": "display_data",
          "data": {
            "image/png": "[encoded data removed]",
            "text/plain": [
              "<Figure size 844.5x720 with 20 Axes>"
            ]
          },
          "metadata": {
            "tags": [],
            "needs_background": "light"
          }
        }
      ]
    },
    {
      "cell_type": "markdown",
      "metadata": {
        "id": "DM2nuyRTku81"
      },
      "source": [
        "# 3° Pré-Processamento dos Dados\n",
        "![](https://cdn.dribbble.com/users/2273038/screenshots/5193715/medical_data_visualization.gif)"
      ]
    },
    {
      "cell_type": "code",
      "metadata": {
        "id": "vZENnSgxDL_U"
      },
      "source": [
        "#Substituindo caracteres por números\n",
        "clientes['sexo']= clientes['sexo'].map({'Male':0, 'Female':1})\n",
        "clientes['estado_civil']= clientes['estado_civil'].map({'No':0, 'Yes':1})\n",
        "clientes['aprovacao_emprestimo']= clientes['aprovacao_emprestimo'].map({'N':0, 'Y':1})"
      ],
      "execution_count": 16,
      "outputs": []
    },
    {
      "cell_type": "code",
      "metadata": {
        "id": "cr3Tn755DUgA",
        "colab": {
          "base_uri": "https://localhost:8080/"
        },
        "outputId": "0ac8714b-9e3b-49de-c5e8-066017d3ac4b"
      },
      "source": [
        "# Eliminando valores Nulos\n",
        "clientes = clientes.dropna()\n",
        "clientes.isnull().sum()"
      ],
      "execution_count": 17,
      "outputs": [
        {
          "output_type": "execute_result",
          "data": {
            "text/plain": [
              "cod_cliente             0\n",
              "sexo                    0\n",
              "estado_civil            0\n",
              "dependentes             0\n",
              "educacao                0\n",
              "empregado               0\n",
              "renda                   0\n",
              "renda_conjuge           0\n",
              "emprestimo              0\n",
              "prestacao_mensal        0\n",
              "historico_credito       0\n",
              "imovel                  0\n",
              "aprovacao_emprestimo    0\n",
              "dtype: int64"
            ]
          },
          "metadata": {
            "tags": []
          },
          "execution_count": 17
        }
      ]
    },
    {
      "cell_type": "code",
      "metadata": {
        "id": "m9LAWTgzDXTE",
        "colab": {
          "base_uri": "https://localhost:8080/"
        },
        "outputId": "edb9bdf8-c8df-4001-8ee3-2b26cc062644"
      },
      "source": [
        "# Separando variáveis Explicativas e Variável TARGET\n",
        "X = clientes[['sexo', 'estado_civil', 'renda', 'emprestimo', 'historico_credito']]\n",
        "y = clientes.aprovacao_emprestimo\n",
        "X.shape, y.shape"
      ],
      "execution_count": 18,
      "outputs": [
        {
          "output_type": "execute_result",
          "data": {
            "text/plain": [
              "((480, 5), (480,))"
            ]
          },
          "metadata": {
            "tags": []
          },
          "execution_count": 18
        }
      ]
    },
    {
      "cell_type": "code",
      "metadata": {
        "id": "ojgYarIfDavz"
      },
      "source": [
        "# importando Pacote para Amostragem dos Dados\n",
        "from sklearn.model_selection import train_test_split"
      ],
      "execution_count": 19,
      "outputs": []
    },
    {
      "cell_type": "code",
      "metadata": {
        "id": "oIUK1ZNqu7rF"
      },
      "source": [
        "# Realizando Amostragem dosa Dados\n",
        "x_train, x_teste, y_train, y_teste = train_test_split(X,y, test_size = 0.2, random_state = 7)#random_state padroniza a amostra"
      ],
      "execution_count": 20,
      "outputs": []
    },
    {
      "cell_type": "code",
      "metadata": {
        "colab": {
          "base_uri": "https://localhost:8080/",
          "height": 419
        },
        "id": "aoqpUH0GXEvn",
        "outputId": "7b850dc0-8f78-45b3-9f13-53bf335d9f6b"
      },
      "source": [
        "x_train"
      ],
      "execution_count": 21,
      "outputs": [
        {
          "output_type": "execute_result",
          "data": {
            "text/html": [
              "<div>\n",
              "<style scoped>\n",
              "    .dataframe tbody tr th:only-of-type {\n",
              "        vertical-align: middle;\n",
              "    }\n",
              "\n",
              "    .dataframe tbody tr th {\n",
              "        vertical-align: top;\n",
              "    }\n",
              "\n",
              "    .dataframe thead th {\n",
              "        text-align: right;\n",
              "    }\n",
              "</style>\n",
              "<table border=\"1\" class=\"dataframe\">\n",
              "  <thead>\n",
              "    <tr style=\"text-align: right;\">\n",
              "      <th></th>\n",
              "      <th>sexo</th>\n",
              "      <th>estado_civil</th>\n",
              "      <th>renda</th>\n",
              "      <th>emprestimo</th>\n",
              "      <th>historico_credito</th>\n",
              "    </tr>\n",
              "  </thead>\n",
              "  <tbody>\n",
              "    <tr>\n",
              "      <th>172</th>\n",
              "      <td>0.0</td>\n",
              "      <td>1.0</td>\n",
              "      <td>3522</td>\n",
              "      <td>81.0</td>\n",
              "      <td>1.0</td>\n",
              "    </tr>\n",
              "    <tr>\n",
              "      <th>4</th>\n",
              "      <td>0.0</td>\n",
              "      <td>0.0</td>\n",
              "      <td>6000</td>\n",
              "      <td>141.0</td>\n",
              "      <td>1.0</td>\n",
              "    </tr>\n",
              "    <tr>\n",
              "      <th>566</th>\n",
              "      <td>0.0</td>\n",
              "      <td>0.0</td>\n",
              "      <td>3333</td>\n",
              "      <td>70.0</td>\n",
              "      <td>1.0</td>\n",
              "    </tr>\n",
              "    <tr>\n",
              "      <th>74</th>\n",
              "      <td>0.0</td>\n",
              "      <td>1.0</td>\n",
              "      <td>5266</td>\n",
              "      <td>187.0</td>\n",
              "      <td>1.0</td>\n",
              "    </tr>\n",
              "    <tr>\n",
              "      <th>417</th>\n",
              "      <td>0.0</td>\n",
              "      <td>1.0</td>\n",
              "      <td>1600</td>\n",
              "      <td>239.0</td>\n",
              "      <td>1.0</td>\n",
              "    </tr>\n",
              "    <tr>\n",
              "      <th>...</th>\n",
              "      <td>...</td>\n",
              "      <td>...</td>\n",
              "      <td>...</td>\n",
              "      <td>...</td>\n",
              "      <td>...</td>\n",
              "    </tr>\n",
              "    <tr>\n",
              "      <th>269</th>\n",
              "      <td>1.0</td>\n",
              "      <td>0.0</td>\n",
              "      <td>2876</td>\n",
              "      <td>90.0</td>\n",
              "      <td>1.0</td>\n",
              "    </tr>\n",
              "    <tr>\n",
              "      <th>85</th>\n",
              "      <td>0.0</td>\n",
              "      <td>0.0</td>\n",
              "      <td>2366</td>\n",
              "      <td>136.0</td>\n",
              "      <td>1.0</td>\n",
              "    </tr>\n",
              "    <tr>\n",
              "      <th>33</th>\n",
              "      <td>0.0</td>\n",
              "      <td>1.0</td>\n",
              "      <td>3500</td>\n",
              "      <td>114.0</td>\n",
              "      <td>1.0</td>\n",
              "    </tr>\n",
              "    <tr>\n",
              "      <th>251</th>\n",
              "      <td>1.0</td>\n",
              "      <td>0.0</td>\n",
              "      <td>3427</td>\n",
              "      <td>138.0</td>\n",
              "      <td>1.0</td>\n",
              "    </tr>\n",
              "    <tr>\n",
              "      <th>224</th>\n",
              "      <td>0.0</td>\n",
              "      <td>1.0</td>\n",
              "      <td>6250</td>\n",
              "      <td>128.0</td>\n",
              "      <td>1.0</td>\n",
              "    </tr>\n",
              "  </tbody>\n",
              "</table>\n",
              "<p>384 rows × 5 columns</p>\n",
              "</div>"
            ],
            "text/plain": [
              "     sexo  estado_civil  renda  emprestimo  historico_credito\n",
              "172   0.0           1.0   3522        81.0                1.0\n",
              "4     0.0           0.0   6000       141.0                1.0\n",
              "566   0.0           0.0   3333        70.0                1.0\n",
              "74    0.0           1.0   5266       187.0                1.0\n",
              "417   0.0           1.0   1600       239.0                1.0\n",
              "..    ...           ...    ...         ...                ...\n",
              "269   1.0           0.0   2876        90.0                1.0\n",
              "85    0.0           0.0   2366       136.0                1.0\n",
              "33    0.0           1.0   3500       114.0                1.0\n",
              "251   1.0           0.0   3427       138.0                1.0\n",
              "224   0.0           1.0   6250       128.0                1.0\n",
              "\n",
              "[384 rows x 5 columns]"
            ]
          },
          "metadata": {
            "tags": []
          },
          "execution_count": 21
        }
      ]
    },
    {
      "cell_type": "code",
      "metadata": {
        "colab": {
          "base_uri": "https://localhost:8080/"
        },
        "id": "h-_NkoqQXEe9",
        "outputId": "3f05175d-edc1-470b-8983-d3e7d0c6ca88"
      },
      "source": [
        "y_train"
      ],
      "execution_count": 22,
      "outputs": [
        {
          "output_type": "execute_result",
          "data": {
            "text/plain": [
              "172    0\n",
              "4      1\n",
              "566    1\n",
              "74     1\n",
              "417    0\n",
              "      ..\n",
              "269    1\n",
              "85     1\n",
              "33     1\n",
              "251    0\n",
              "224    1\n",
              "Name: aprovacao_emprestimo, Length: 384, dtype: int64"
            ]
          },
          "metadata": {
            "tags": []
          },
          "execution_count": 22
        }
      ]
    },
    {
      "cell_type": "markdown",
      "metadata": {
        "id": "XcDuCbTG2PSi"
      },
      "source": [
        "# <font color='Black'> **Aula 2 - Construíndo Máquinas Preditivas** </font>\n",
        "\n",
        "![](https://play.vidyard.com/17BCs3HpfP36GhwmAgaKuC.jpg)"
      ]
    },
    {
      "cell_type": "markdown",
      "metadata": {
        "id": "XTRc7NjBKG65"
      },
      "source": [
        "# Fim"
      ]
    }
  ]
}